{
 "cells": [
  {
   "cell_type": "markdown",
   "metadata": {},
   "source": [
    "1) The open() function is used to open a file and return a file object, which can be used to read or write to the file. The open() function takes two arguments:\n",
    "\n",
    "     filename: The name of the file to open.\n",
    "mode: The mode in which to open the file. The most common modes are:\n",
    "1) 'r': Open the file for reading (default).\n",
    "2) 'w': Open the file for writing (truncates the file if it exists).\n",
    "3) 'a': Open the file for appending (adds to the end of the file if it exists).\n",
    "4) 'x': Open the file for exclusive creation (fails if the file already exists).\n",
    "5) 'b': Open the file in binary mode (used for reading or writing binary data)."
   ]
  },
  {
   "cell_type": "markdown",
   "metadata": {},
   "source": [
    "The close() function is used to close the current file. \n",
    "It is important to close the file for the execution of program to process successfully."
   ]
  },
  {
   "cell_type": "code",
   "execution_count": 1,
   "metadata": {},
   "outputs": [],
   "source": [
    "t = open(\"test.txt\",'w')"
   ]
  },
  {
   "cell_type": "code",
   "execution_count": 2,
   "metadata": {},
   "outputs": [
    {
     "data": {
      "text/plain": [
       "'d:\\\\Python Youtube'"
      ]
     },
     "execution_count": 2,
     "metadata": {},
     "output_type": "execute_result"
    }
   ],
   "source": [
    "pwd"
   ]
  },
  {
   "cell_type": "code",
   "execution_count": 3,
   "metadata": {},
   "outputs": [
    {
     "data": {
      "text/plain": [
       "33"
      ]
     },
     "execution_count": 3,
     "metadata": {},
     "output_type": "execute_result"
    }
   ],
   "source": [
    "t.write(\"I want to become a Data Scientist\")"
   ]
  },
  {
   "cell_type": "code",
   "execution_count": 4,
   "metadata": {},
   "outputs": [],
   "source": [
    "t.close()"
   ]
  },
  {
   "cell_type": "code",
   "execution_count": 5,
   "metadata": {},
   "outputs": [],
   "source": [
    "t = open(\"test.txt\",'r')"
   ]
  },
  {
   "cell_type": "code",
   "execution_count": 6,
   "metadata": {},
   "outputs": [
    {
     "data": {
      "text/plain": [
       "'I want to become a Data Scientist'"
      ]
     },
     "execution_count": 6,
     "metadata": {},
     "output_type": "execute_result"
    }
   ],
   "source": [
    "t.read()"
   ]
  },
  {
   "cell_type": "markdown",
   "metadata": {},
   "source": [
    "The read() method reads the contents of the file and returns it as a string. It reads the entire file if the file is small enough to fit into memory.\n",
    "\n",
    "Example: \n",
    "\n",
    "with open('example.txt', 'r') as file:\n",
    "    line = file.readline()\n",
    "print(line)\n",
    "\n",
    "\n",
    "The readline() method reads a single line from the file and returns it as a string. It reads the line up to the newline character (\\n).\n",
    "\n",
    "Example:\n",
    "\n",
    "with open('example.txt', 'r') as file:\n",
    "    line = file.readline()\n",
    "print(line)\n",
    "\n",
    "\n",
    "The readlines() method reads all lines from the file and returns them as a list of strings.\n",
    "\n",
    "Example:\n",
    "\n",
    "with open('example.txt', 'r') as file:\n",
    "    lines = file.readlines()\n",
    "print(lines)\n",
    "\n"
   ]
  },
  {
   "cell_type": "markdown",
   "metadata": {},
   "source": [
    "The with statement is used with the open function in Python to ensure that the file is properly closed after it is no longer needed. This is known as a \"context manager\"\n",
    "\n",
    "Advantages:\n",
    "1) Automatic file closure: The file is automatically closed, which ensures that the file is not left open and can cause issues.\n",
    "2) Exception handling: If an exception is thrown while executing the block, the file is still closed, which prevents 3)resource leaks.\n",
    "3) Improved code readability: The with statement makes the code more readable by clearly indicating the scope of the file operations.\n",
    "4) Reduced boilerplate code: You don't need to write explicit try-finally blocks to close the file, which reduces the amount of code you need to write."
   ]
  },
  {
   "cell_type": "markdown",
   "metadata": {},
   "source": [
    "The write() method is used to write a string to a file. It returns the number of characters written.\n",
    "\n",
    "Example:\n",
    "with open('example.txt', 'w') as file:\n",
    "    file.write('Hello, World!')\n",
    "\n",
    "The writelines() method is used to write a list of strings to a file. It writes each string in the list to the file, followed by a newline character (\\n).\n",
    "\n",
    "Example:\n",
    "with open('example.txt', 'w') as file:\n",
    "    lines = ['Hello,', 'World!', 'This is a test.']\n",
    "    file.writelines(lines)"
   ]
  },
  {
   "cell_type": "markdown",
   "metadata": {},
   "source": []
  }
 ],
 "metadata": {
  "kernelspec": {
   "display_name": "Python 3",
   "language": "python",
   "name": "python3"
  },
  "language_info": {
   "codemirror_mode": {
    "name": "ipython",
    "version": 3
   },
   "file_extension": ".py",
   "mimetype": "text/x-python",
   "name": "python",
   "nbconvert_exporter": "python",
   "pygments_lexer": "ipython3",
   "version": "3.11.4"
  }
 },
 "nbformat": 4,
 "nbformat_minor": 2
}
