{
 "cells": [
  {
   "cell_type": "markdown",
   "metadata": {},
   "source": [
    "ANSWER_1\n",
    "\n",
    "Abstraction is a fundamental concept in Object-Oriented Programming (OOP) that allows you to focus on essential features while hiding non-essential details. It is a way to simplify complex systems by exposing only the necessary information to the outside world, while keeping the internal implementation details hidden.\n",
    "\n",
    "Here is an example of abstraction in OOP:\n",
    "public abstract class BankAccount {\n",
    "    public abstract void deposit(double amount);\n",
    "    public abstract void withdraw(double amount);\n",
    "}\n",
    "\n",
    "\n",
    "The BankAccount class is abstract because it cannot be instantiated on its own and is intended to be inherited by other classes. The deposit and withdraw methods are abstract because they are intended to be implemented by subclasses.\n",
    "\n",
    "We can then create concrete subclasses that inherit from the BankAccount class and implement the deposit and withdraw methods. For example, we can create a CheckingAccount class that inherits from BankAccount and implements the deposit and withdraw methods"
   ]
  },
  {
   "cell_type": "markdown",
   "metadata": {},
   "source": [
    "ANSWER_2\n",
    "\n",
    "Abstraction is the process of exposing only the necessary information to the outside world while hiding the internal implementation details. It is a way to simplify complex systems by focusing on essential features and hiding non-essential details.\n",
    "\n",
    "Example:\n",
    "\n",
    "Suppose we are building a banking system that allows customers to deposit and withdraw money from their accounts. We can create an abstract class BankAccount that defines the essential features of a bank account, such as deposit and withdraw methods:\n",
    "\n",
    "public abstract class BankAccount {\n",
    "    public abstract void deposit(double amount);\n",
    "    public abstract void withdraw(double amount);\n",
    "}\n",
    "\n",
    "The BankAccount class is abstract because it provides a contract for implementing essential features, but it does not provide the internal implementation details. The deposit and withdraw methods are abstract because they are intended to be implemented by subclasses.\n",
    "\n",
    "\n",
    "\n",
    "Encapsulation is the process of hiding the internal implementation details of an object from the outside world while exposing only the necessary information through public methods or properties. It is a way to protect the internal state of an object from external interference and misuse.\n",
    "\n",
    "Example:\n",
    "\n",
    "Suppose we are building a BankAccount class that encapsulates the internal state of a bank account, including the balance and account number:\n",
    "\n",
    "public class BankAccount {\n",
    "    private double balance;\n",
    "    private String accountNumber;\n",
    "\n",
    "    public BankAccount(double initialBalance, String accountNumber) {\n",
    "        balance = initialBalance;\n",
    "        this.accountNumber = accountNumber;\n",
    "    }\n",
    "\n",
    "    public void deposit(double amount) {\n",
    "        balance += amount;\n",
    "    }\n",
    "\n",
    "    public void withdraw(double amount) {\n",
    "        if (balance >= amount) {\n",
    "            balance -= amount;\n",
    "        } else {\n",
    "            throw new InsufficientFundsException();\n",
    "        }\n",
    "    }\n",
    "\n",
    "    public double getBalance() {\n",
    "        return balance;\n",
    "    }\n",
    "\n",
    "    public String getAccountNumber() {\n",
    "        return accountNumber;\n",
    "    }\n",
    "}\n",
    "\n",
    "\n",
    "The BankAccount class encapsulates the internal state of a bank account by hiding the balance and account number from the outside world. The deposit and withdraw methods are public, but they only expose the necessary information to the outside world while hiding the internal implementation details.\n",
    "\n",
    "Key differences:\n",
    "\n",
    "- Abstraction focuses on exposing only the necessary information to the outside world while hiding internal implementation details.\n",
    "- Encapsulation focuses on hiding internal implementation details while exposing only the necessary information through public methods or   properties.\n",
    "- Abstraction is concerned with the interface or contract of an object, while encapsulation is concerned with the internal state of an object."
   ]
  },
  {
   "cell_type": "markdown",
   "metadata": {},
   "source": [
    "ANSWER_3\n",
    "\n",
    "The abc module in Python is a module that provides support for Abstract Base Classes (ABCs). An ABC is a class that defines a blueprint for other classes to follow, but it cannot be instantiated on its own. Instead, it is intended to be inherited by other classes that provide the necessary implementation for the abstract methods.\n",
    "\n",
    "The abc module is used for several reasons:\n",
    "\n",
    "- Encapsulation: The abc module provides a way to encapsulate the implementation details of a class, making it easier to change or modify the \n",
    "implementation without affecting the outside world.\n",
    "\n",
    "- Polymorphism: The abc module provides a way to create polymorphic classes that can be used in a variety of contexts. Polymorphism is the ability of an object to take on multiple forms, depending on the context in which it is used.\n",
    "\n",
    "- Code Reusability: The abc module provides a way to create reusable code by defining abstract base classes that can be inherited by multiple subclasses.\n",
    "\n",
    "- Improved Code Quality: The abc module provides a way to improve code quality by making it easier to write robust and maintainable code."
   ]
  },
  {
   "cell_type": "markdown",
   "metadata": {},
   "source": [
    "ANSWER_4\n",
    "\n",
    "Data abstraction is the process of exposing only the necessary information to the outside world while hiding the internal implementation details. Here are some ways to achieve data abstraction:\n",
    "\n",
    "1) Encapsulation: Encapsulate the data by hiding it from the outside world and providing a public interface to access and modify it.\n",
    "\n",
    "2) Abstract Data Types: Use abstract data types such as classes, interfaces, or abstract classes to define the structure and behavior of the data.\n",
    "\n",
    "3) Access Control: Use access control mechanisms such as public, private, and protected to restrict access to the data and its implementation details.\n",
    "\n",
    "4) Information Hiding: Hide the internal implementation details of the data by providing a public interface that only exposes the necessary information.\n",
    "\n",
    "5) Data Hiding: Hide the data itself by using abstract data types or encapsulation.\n",
    "\n",
    "6) Abstract Interfaces: Use abstract interfaces to define the behavior of the data without exposing its internal implementation details.\n",
    "\n",
    "7) Polymorphism: Use polymorphism to provide multiple implementations for the same interface, allowing the data to be accessed and modified in different ways.\n",
    "8) Encapsulation with Inheritance: Use encapsulation with inheritance to create a hierarchy of classes that inherit the implementation details of the data.\n",
    "\n",
    "9) Data Abstraction with Composition: Use composition to create a complex data structure by combining multiple simpler data structures, while hiding the internal implementation details.\n",
    "10) Data Abstraction with Decorators: Use decorators to add additional functionality to the data without modifying its internal implementation details."
   ]
  },
  {
   "cell_type": "markdown",
   "metadata": {},
   "source": [
    "ANSWER_5\n",
    "\n",
    "No, you cannot create an instance of an abstract class. Abstract classes are restricted and act like templates or empty structures. They are meant to be extended, not instantiated."
   ]
  },
  {
   "cell_type": "markdown",
   "metadata": {},
   "source": []
  }
 ],
 "metadata": {
  "language_info": {
   "name": "python"
  }
 },
 "nbformat": 4,
 "nbformat_minor": 2
}
