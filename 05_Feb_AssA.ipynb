{
 "cells": [
  {
   "cell_type": "markdown",
   "metadata": {},
   "source": [
    "Class: In object-oriented programming (OOP), a class is a blueprint or a template that defines the characteristics and behavior of an object. A class is essentially a design pattern that defines the properties and methods of an object. \n",
    "Ex: Think of a class as a cookie cutter that shapes the dough into a specific shape.\n",
    "\n",
    "Object: An object is an instance of a class. It has its own set of attributes (data) and methods (functions) that are defined by the class. An object has its own state and behavior, which is determined by the class it belongs to. \n",
    "Ex: Think of an object as a cookie that has been cut out using the cookie cutter (class)."
   ]
  },
  {
   "cell_type": "markdown",
   "metadata": {},
   "source": [
    "Four Pillars of OOPs:\n",
    "\n",
    "- Encapsulation : This is the concept of bundling data and methods that operate on that data within a single unit, such as a class. Encapsulation helps to hide the internal implementation details of an object from the outside world, making it harder for other parts of the program to access or modify them directly.\n",
    "\n",
    "- Abstraction : Abstraction is the concept of showing only the necessary information to the outside world while hiding the internal implementation details. It helps to reduce complexity and make the code more modular and reusable.\n",
    "\n",
    "- Inheritance : Inheritance is the concept of creating a new class that is a modified version of an existing class. The new class inherits the attributes and methods of the existing class and can also add new attributes and methods or override the ones inherited from the parent class.\n",
    "\n",
    "- Polymorphism: Polymorphism is the concept of having multiple forms or behaviors of an object. This can be achieved through method overriding or method overloading."
   ]
  },
  {
   "cell_type": "markdown",
   "metadata": {},
   "source": [
    "__init__: __init__ is a special method in Python that is used to initialize objects when they are created. It is also known as the constructor method.\n",
    "\n",
    "When you create an object from a class, Python automatically calls the __init__ method to initialize the object's attributes. The __init__ method is responsible for setting the initial state of the object, which includes setting the values of its attributes."
   ]
  },
  {
   "cell_type": "markdown",
   "metadata": {},
   "source": [
    "Use of Self in OOPs:\n",
    "\n",
    "In Object-Oriented Programming (OOP), self is a keyword that is used to refer to the current object being manipulated. It is a reference to the instance of the class and is used to access variables and methods from the class.\n",
    "\n",
    "- Accessing class variables: self is used to access the variables of the class. For example, if a class has a variable x,  you can access it using self.x.\n",
    "- Calling class methods: self is used to call methods of the class. For example, if a class has a method my_method, you can call it using self.my_method().\n",
    "- Passing arguments to methods: self is used to pass arguments to methods of the class. For example, if a class has a method my_method that takes an argument x, you can pass it using self.my_method(x).\n",
    "- Returning values from methods: self is used to return values from methods of the class. For example, if a class has a method my_method that returns a value, you can return it using return self.x.\n",
    "- Using self in constructor: self is used in the constructor (__init__ method) to initialize the object's attributes."
   ]
  },
  {
   "cell_type": "markdown",
   "metadata": {},
   "source": [
    "Inheritance : Inheritance is the concept of creating a new class that is a modified version of an existing class. The new class inherits the attributes and methods of the existing class and can also add new attributes and methods or override the ones inherited from the parent class.\n",
    "\n",
    "Example:\n",
    "class Animal:\n",
    "    def __init__(self, name):\n",
    "        self.name = name\n",
    "\n",
    "    def sound(self):\n",
    "        print(\"The animal makes a sound.\")\n",
    "\n",
    "class Dog(Animal):\n",
    "    def __init__(self, name, breed):\n",
    "        super().__init__(name)\n",
    "        self.breed = breed\n",
    "\n",
    "    def sound(self):\n",
    "        print(\"The dog barks.\")\n",
    "\n",
    "my_dog = Dog(\"Fido\", \"Golden Retriever\")\n",
    "print(my_dog.name)  # Output: Fido\n",
    "print(my_dog.breed)  # Output: Golden Retriever\n",
    "my_dog.sound()  # Output: The dog barks."
   ]
  },
  {
   "cell_type": "markdown",
   "metadata": {},
   "source": []
  }
 ],
 "metadata": {
  "language_info": {
   "name": "python"
  }
 },
 "nbformat": 4,
 "nbformat_minor": 2
}
