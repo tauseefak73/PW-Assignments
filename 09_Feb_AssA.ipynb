{
 "cells": [
  {
   "cell_type": "code",
   "execution_count": 2,
   "metadata": {},
   "outputs": [],
   "source": [
    "class vehicle:\n",
    "    def __init__(self,name_of_vehicle, max_speed, average_of_vehicle):\n",
    "        self.name_of_vehicle = name_of_vehicle\n",
    "        self.max_speed = max_speed\n",
    "        self.average_of_vehicle = average_of_vehicle\n",
    "        return\n",
    "        "
   ]
  },
  {
   "cell_type": "code",
   "execution_count": 3,
   "metadata": {},
   "outputs": [],
   "source": [
    "class Car(vehicle):\n",
    "    def __init__(self, name_of_vehicle, max_speed, average_mileage, seating_capacity):\n",
    "        super().__init__(name_of_vehicle, max_speed, average_mileage)\n",
    "        self.seating_capacity = seating_capacity\n",
    "\n",
    "    def seating_capacity(self, capacity):\n",
    "        return f\"{self.name_of_vehicle} has a seating capacity of {capacity}.\"\n",
    "\n"
   ]
  },
  {
   "cell_type": "code",
   "execution_count": 5,
   "metadata": {},
   "outputs": [
    {
     "name": "stdout",
     "output_type": "stream",
     "text": [
      "5\n"
     ]
    }
   ],
   "source": [
    "# Example usage:\n",
    "my_car = Car(\"Toyota\", 120, 25, 5)\n",
    "print(my_car.seating_capacity)"
   ]
  },
  {
   "cell_type": "markdown",
   "metadata": {},
   "source": [
    "Multiple Inheritance is a type of inheritance in which a single class inherits the property of two or more classes.\n",
    "\n",
    "class class1:\n",
    "    def test_class1(self):\n",
    "        return('this is my class1')\n",
    "    \n",
    "class class2:\n",
    "    def test_class2(self):\n",
    "        return('this is my class2')\n",
    "    \n",
    "class class3(class1,class2):\n",
    "    pass\n",
    "\n",
    "Here the class3 inherits the property of class1 and class2."
   ]
  },
  {
   "cell_type": "markdown",
   "metadata": {},
   "source": [
    "In Python, getter and setter methods are not strictly necessary because Python does not have strict encapsulation like some other languages. However, they can still be used to provide a layer of abstraction and control over an object's attributes.\n",
    "\n",
    "class Person:\n",
    "    def __init__(self, name, age):\n",
    "        self.__name = name\n",
    "        self.__age = age\n",
    "\n",
    "    def get_name(self):\n",
    "        return self.__name\n",
    "\n",
    "    def set_name(self, name):\n",
    "        self.__name = name\n",
    "\n",
    "    def get_age(self):\n",
    "        return self.__age\n",
    "\n",
    "    def set_age(self, age):\n",
    "        if age >= 0:\n",
    "            self.__age = age\n",
    "        else:\n",
    "            raise ValueError(\"Age cannot be negative\")\n",
    "\n",
    "# Example usage:\n",
    "person = Person(\"John\", 30)\n",
    "print(person.get_name())  # prints: John\n",
    "print(person.get_age())   # prints: 30\n",
    "\n",
    "person.set_name(\"Jane\")\n",
    "print(person.get_name())  # prints: Jane\n",
    "\n",
    "person.set_age(31)\n",
    "print(person.get_age())   # prints: 31\n",
    "\n",
    "person.set_age(-1)  # raises ValueError\n",
    "\n",
    "In this example, the Person class has two private attributes __name and __age. The get_name and get_age methods are used to retrieve the values of these attributes, and the set_name and set_age methods are used to modify them.\n",
    "\n",
    "The set_age method also includes a validation check to ensure that the age is not negative. This provides an additional layer of control over the data and ensures that it remains valid."
   ]
  },
  {
   "cell_type": "markdown",
   "metadata": {},
   "source": [
    "Method overriding is a feature of object-oriented programming that allows a subclass to provide a specific implementation for a method that is already defined in its superclass. The subclass method has the same name, return type, and parameter list as the superclass method, but it can have a different implementation.\n",
    "\n",
    "class Animal:\n",
    "    def sound(self):\n",
    "        print(\"The animal makes a sound.\")\n",
    "\n",
    "class Dog(Animal):\n",
    "    def sound(self):\n",
    "        print(\"The dog barks.\")\n",
    "\n",
    "class Cat(Animal):\n",
    "    def sound(self):\n",
    "        print(\"The cat meows.\")\n",
    "\n",
    "# Create objects of the classes\n",
    "dog = Dog()\n",
    "cat = Cat()\n",
    "\n",
    "# Call the sound method on the objects\n",
    "dog.sound()  # Output: The dog barks.\n",
    "cat.sound()  # Output: The cat meows."
   ]
  },
  {
   "cell_type": "markdown",
   "metadata": {},
   "source": []
  }
 ],
 "metadata": {
  "kernelspec": {
   "display_name": "Python 3",
   "language": "python",
   "name": "python3"
  },
  "language_info": {
   "codemirror_mode": {
    "name": "ipython",
    "version": 3
   },
   "file_extension": ".py",
   "mimetype": "text/x-python",
   "name": "python",
   "nbconvert_exporter": "python",
   "pygments_lexer": "ipython3",
   "version": "3.11.4"
  }
 },
 "nbformat": 4,
 "nbformat_minor": 2
}
